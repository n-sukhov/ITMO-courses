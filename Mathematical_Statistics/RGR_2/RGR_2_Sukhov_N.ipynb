{
 "cells": [
  {
   "cell_type": "markdown",
   "id": "45b40c22",
   "metadata": {},
   "source": [
    "# Расчётно-графическая работа №2\n",
    "#### Выполнил: Сухов Николай Михайлович\n",
    "#### Поток: 24.4\n",
    "#### Вариант: 3 2"
   ]
  },
  {
   "cell_type": "code",
   "execution_count": 1,
   "id": "fb1b7916",
   "metadata": {},
   "outputs": [],
   "source": [
    "import numpy as np\n",
    "from scipy.stats import f, norm\n",
    "np.random.seed(17)"
   ]
  },
  {
   "cell_type": "markdown",
   "id": "b0ba1d57",
   "metadata": {},
   "source": [
    "# Задание 1\n",
    "\n",
    "Доверительный интервал уровня 1-$\\alpha$ для параметра $\\tau$\n",
    "\n",
    "По теореме Фишера для $X_1,...,X_n ∼ 𝑁 (𝜇, 𝜎)$ верно такое свойство:\n",
    "$$\\frac{nS_*^2}{\\sigma^2}=\\frac{(n-1)S^2}{\\sigma^2} \\sim \\chi^2 (n-1),$$\n",
    "где $\\chi^2$ - распределение Хи-квадрат. Так же распределение Фишера:\n",
    "$$F(n_2,n_1)=\\frac{\\chi^2 (n_2)/n_2}{\\chi^2 (n_1)/n_1}$$\n",
    "Отсюда получаем:\n",
    "$$\\frac{n_1(n_2-1)S^2_\\ast(X_1)}{n_2(n_1-1)S^2_\\ast(X_2)} \\cdot \\frac{\\sigma_2^2}{\\sigma_1^2}=F(n_1, n_2)$$\n",
    "Доверительный интервал:\n",
    "$$P \\left(\\frac{n_2(n_1-1)S^2_\\ast(X_2)}{n_1(n_2-1)S^1_\\ast(X_1)} \\tau \\leq q_{1-\\alpha/2}\\right) = 1 - \\alpha$$\n",
    "\n",
    "$$P \\left(\\frac{n_1(n_2-1)S^2_\\ast(X_1)}{n_2(n_1-1)S^2_\\ast(X_2)} q_{\\alpha/2} \\leq  \\tau \\leq \\frac{n_1(n_2-1)S^2_\\ast(X_1)}{n_2(n_1-1)S^2_\\ast(X_2)} q_{1-\\alpha/2}\\right) = 1 - \\alpha$$"
   ]
  },
  {
   "cell_type": "code",
   "execution_count": 2,
   "id": "5f680ffd",
   "metadata": {},
   "outputs": [],
   "source": [
    "mu_1 = mu_2 = 0\n",
    "sigma_sq_1, sigma_sq_2 = 2, 1\n",
    "tau = sigma_sq_1 / sigma_sq_2\n",
    "alpha_by_2 = 0.025\n",
    "n1_25 = n2_25 = 25\n",
    "n1_10000 = n2_10000 = 10000\n",
    "repeats = 1000"
   ]
  },
  {
   "cell_type": "code",
   "execution_count": 3,
   "id": "497375aa",
   "metadata": {},
   "outputs": [],
   "source": [
    "def count_intrvals(mu_1, mu_2, n1, n2, sigma_sq_1, sigma_sq_2, alpha_by_2=0.025):\n",
    "    x1 = np.random.normal(mu_1, np.sqrt(sigma_sq_1), n1)\n",
    "    x2 = np.random.normal(mu_2, np.sqrt(sigma_sq_2), n2)\n",
    "    s1_sq = np.var(x1, ddof=1)\n",
    "    s2_sq = np.var(x2, ddof=1)\n",
    "    f_lower = f.ppf(alpha_by_2, dfn=n1 - 1, dfd=n2 - 1)\n",
    "    f_upper = f.ppf(1 - alpha_by_2, dfn=n1 - 1, dfd=n2 - 1)\n",
    "\n",
    "    c = (n1 * (n2 - 1) * s1_sq) / (n2 * (n1 - 1) * s2_sq)\n",
    "    lower = c * f_lower\n",
    "    upper = c * f_upper\n",
    "    \n",
    "    return lower, upper"
   ]
  },
  {
   "cell_type": "code",
   "execution_count": 4,
   "id": "09bb75e3",
   "metadata": {},
   "outputs": [
    {
     "name": "stdout",
     "output_type": "stream",
     "text": [
      "Объём выборки 25: доверительный интервал покрыл истинное значение τ = 2.0 в 959 из 1000 случаев.\n",
      "Объём выборки 10000: доверительный интервал покрыл истинное значение τ = 2.0 в 954 из 1000 случаев.\n"
     ]
    }
   ],
   "source": [
    "covered_25, covered_10000 = 0, 0\n",
    "\n",
    "for _ in range(repeats):\n",
    "    lower_25, upper_25 = count_intrvals(mu_1, mu_2, n1_25, n2_25, sigma_sq_1, sigma_sq_2)\n",
    "\n",
    "    if lower_25 <= tau <= upper_25:\n",
    "        covered_25 += 1\n",
    "\n",
    "    lower_10000, upper_10000 = count_intrvals(mu_1, mu_2, n1_10000, n2_10000, sigma_sq_1, sigma_sq_2)\n",
    "\n",
    "    if lower_10000 <= tau <= upper_10000:\n",
    "        covered_10000 += 1\n",
    "\n",
    "print(f\"Объём выборки 25: доверительный интервал покрыл истинное значение τ = {tau} в {covered_25} из {repeats} случаев.\")\n",
    "print(f\"Объём выборки 10000: доверительный интервал покрыл истинное значение τ = {tau} в {covered_10000} из {repeats} случаев.\")\n"
   ]
  },
  {
   "cell_type": "markdown",
   "id": "5f5112a2",
   "metadata": {},
   "source": [
    "Как мы видим, при большем объёме выборки, покрытие не меняется сильно. Это связано с тем, что при росте выборки увеличивается точность и доверительные интервалы становятся уже, но покрытие остаётся прежним. Это согласуется с теорией.\n",
    "\n",
    "# Задание 2\n",
    "\n",
    "В распределении Лапласа математическое ожидание и медиана совпадает с параметром сдвига. Воспользуемся этим:\n",
    "$$\\text{E}X=\\mu=\\beta=2,\\qquad \\text{D}X=\\frac{2}{\\alpha^2}=\\frac{2}{1}=2$$\n",
    "Центральная предельная теорема утверждает, что сумма достаточно большого количества слабо зависимых случайных величин, имеющих примерно одинаковые масштабы, имеет распределение, близкое к нормальному. Тогда Квантиль уровня $\\alpha$ стандартного нормального распределения:\n",
    "$$Z=\\sqrt{n} \\frac{\\overline{X}_n - \\mu}{\\sigma} \\rightarrow N(0,1)$$\n",
    "Доверительный интервал:\n",
    "$$P(-Z_{1-\\alpha/2} \\le Z \\le Z_{1 - \\alpha/2}) = 1 - \\alpha$$\n",
    "$$P(-Z_{1-\\alpha/2} \\le \\sqrt{n} \\frac{\\overline{X}_n - \\mu}{\\sigma} \\le Z_{1 - \\alpha/2}) = 1 - \\alpha$$\n",
    "$$P(-\\frac{Z_{1 - \\alpha/2}\\sqrt{D}}{\\sqrt{n}}+\\overline{X}_n \\le \\mu \\le  \\frac{Z_{\\alpha/2}\\sqrt{D}}{\\sqrt{n}}+\\overline{X}_n) = 1 - \\alpha$$"
   ]
  },
  {
   "cell_type": "code",
   "execution_count": 5,
   "id": "8ee76e37",
   "metadata": {},
   "outputs": [],
   "source": [
    "mu = 2\n",
    "alpha = 1\n",
    "sigma = np.sqrt(mu)\n",
    "z = norm.ppf(1 - alpha_by_2)"
   ]
  },
  {
   "cell_type": "code",
   "execution_count": 6,
   "id": "660343fa",
   "metadata": {},
   "outputs": [],
   "source": [
    "def count_asymptotic_intervals(mu, n, sigma, z):\n",
    "    sample = np.random.laplace(loc=mu, scale=1, size=n)\n",
    "    sample_mean = np.mean(sample)\n",
    "    margin = z * sigma / np.sqrt(n)\n",
    "    lower = sample_mean - margin\n",
    "    upper = sample_mean + margin\n",
    "    return lower, upper"
   ]
  },
  {
   "cell_type": "code",
   "execution_count": 7,
   "id": "600071d4",
   "metadata": {},
   "outputs": [
    {
     "name": "stdout",
     "output_type": "stream",
     "text": [
      "Объём выборки 25: доверительный интервал покрыл истинное значение μ = 2 в 947 из 1000 случаев.\n",
      "Объём выборки 10000: доверительный интервал покрыл истинное значение μ = 2 в 961 из 1000 случаев.\n"
     ]
    }
   ],
   "source": [
    "covered_25l = 0\n",
    "covered_10000l = 0\n",
    "\n",
    "for _ in range(repeats):\n",
    "    lower_25, upper_25 = count_asymptotic_intervals(mu, n1_25, sigma, z)\n",
    "    if lower_25 <= mu <= upper_25:\n",
    "        covered_25l += 1\n",
    "\n",
    "    lower_10000, upper_10000 = count_asymptotic_intervals(mu, n1_10000, sigma, z)\n",
    "    if lower_10000 <= mu <= upper_10000:\n",
    "        covered_10000l += 1\n",
    "\n",
    "print(f\"Объём выборки 25: доверительный интервал покрыл истинное значение μ = {mu} в {covered_25l} из {repeats} случаев.\")\n",
    "print(f\"Объём выборки 10000: доверительный интервал покрыл истинное значение μ = {mu} в {covered_10000l} из {repeats} случаев.\")"
   ]
  },
  {
   "cell_type": "markdown",
   "id": "ef49b644",
   "metadata": {},
   "source": [
    "Как мы видим, итоги второго эксперимента подтвержают первый."
   ]
  }
 ],
 "metadata": {
  "kernelspec": {
   "display_name": ".venv",
   "language": "python",
   "name": "python3"
  },
  "language_info": {
   "codemirror_mode": {
    "name": "ipython",
    "version": 3
   },
   "file_extension": ".py",
   "mimetype": "text/x-python",
   "name": "python",
   "nbconvert_exporter": "python",
   "pygments_lexer": "ipython3",
   "version": "3.12.3"
  }
 },
 "nbformat": 4,
 "nbformat_minor": 5
}
